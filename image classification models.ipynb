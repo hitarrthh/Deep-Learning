{
  "nbformat": 4,
  "nbformat_minor": 0,
  "metadata": {
    "colab": {
      "provenance": [],
      "gpuType": "T4"
    },
    "kernelspec": {
      "name": "python3",
      "display_name": "Python 3"
    },
    "language_info": {
      "name": "python"
    },
    "accelerator": "GPU"
  },
  "cells": [
    {
      "cell_type": "code",
      "execution_count": 5,
      "metadata": {
        "id": "al4RmliMVgER"
      },
      "outputs": [],
      "source": [
        "import os\n",
        "import zipfile\n",
        "import tensorflow as tf\n",
        "from tensorflow.keras import layers, models\n",
        "from tensorflow.keras.preprocessing.image import ImageDataGenerator\n",
        "import matplotlib.pyplot as plt\n",
        "import warnings\n",
        "warnings.filterwarnings('ignore')"
      ]
    },
    {
      "cell_type": "markdown",
      "source": [
        "#LOADING THE DATASET"
      ],
      "metadata": {
        "id": "8xIAKyLnYiH8"
      }
    },
    {
      "cell_type": "code",
      "source": [
        "# Load CATS vs DOGS dataset\n",
        "dataset_url = 'https://storage.googleapis.com/mledu-datasets/cats_and_dogs_filtered.zip'\n",
        "path_to_zip = tf.keras.utils.get_file('cats_and_dogs.zip', origin=dataset_url, extract=True)\n",
        "base_dir = os.path.dirname(path_to_zip)  # Get the base directory\n",
        "\n",
        "# Directory paths\n",
        "train_dir = os.path.join(base_dir, 'cats_and_dogs_filtered', 'train')\n",
        "validation_dir = os.path.join(base_dir, 'cats_and_dogs_filtered', 'validation')\n"
      ],
      "metadata": {
        "id": "Ce8YpLbVX8yS"
      },
      "execution_count": 6,
      "outputs": []
    },
    {
      "cell_type": "code",
      "source": [
        "# Data augmentation and rescaling\n",
        "train_datagen = ImageDataGenerator(rescale=1.0/255)\n",
        "test_datagen = ImageDataGenerator(rescale=1.0/255)\n",
        "\n",
        "train_generator = train_datagen.flow_from_directory(\n",
        "    train_dir,\n",
        "    target_size=(224, 224),\n",
        "    batch_size=32,\n",
        "    class_mode='binary'\n",
        ")\n",
        "\n",
        "validation_generator = test_datagen.flow_from_directory(\n",
        "    validation_dir,\n",
        "    target_size=(224, 224),\n",
        "    batch_size=32,\n",
        "    class_mode='binary'\n",
        ")\n"
      ],
      "metadata": {
        "colab": {
          "base_uri": "https://localhost:8080/"
        },
        "id": "nLLapjZuX-As",
        "outputId": "73ae03fd-f420-44ad-a53f-7d8151905bed"
      },
      "execution_count": 7,
      "outputs": [
        {
          "output_type": "stream",
          "name": "stdout",
          "text": [
            "Found 2000 images belonging to 2 classes.\n",
            "Found 1000 images belonging to 2 classes.\n"
          ]
        }
      ]
    },
    {
      "cell_type": "markdown",
      "source": [
        "#LeNet-5"
      ],
      "metadata": {
        "id": "2-B3saKrYo_x"
      }
    },
    {
      "cell_type": "code",
      "source": [
        "def build_lenet5(input_shape):\n",
        "    model = models.Sequential([\n",
        "        layers.Conv2D(6, kernel_size=(5, 5), activation='tanh', input_shape=input_shape),\n",
        "        layers.AveragePooling2D(pool_size=(2, 2)),\n",
        "        layers.Conv2D(16, kernel_size=(5, 5), activation='tanh'),\n",
        "        layers.AveragePooling2D(pool_size=(2, 2)),\n",
        "        layers.Conv2D(120, kernel_size=(5, 5), activation='tanh'),\n",
        "        layers.Flatten(),\n",
        "        layers.Dense(84, activation='tanh'),\n",
        "        layers.Dense(1, activation='sigmoid')  # Output layer for binary classification\n",
        "    ])\n",
        "    return model"
      ],
      "metadata": {
        "id": "-3TBS9W1YDWN"
      },
      "execution_count": 8,
      "outputs": []
    },
    {
      "cell_type": "markdown",
      "source": [
        "#AlexNet"
      ],
      "metadata": {
        "id": "DBYJHi2sYrRt"
      }
    },
    {
      "cell_type": "code",
      "source": [
        "def build_alexnet(input_shape):\n",
        "    model = models.Sequential([\n",
        "        layers.Conv2D(96, (11, 11), strides=(4, 4), activation='relu', input_shape=input_shape),\n",
        "        layers.MaxPooling2D(pool_size=(3, 3), strides=(2, 2)),\n",
        "        layers.Conv2D(256, (5, 5), activation='relu'),\n",
        "        layers.MaxPooling2D(pool_size=(3, 3), strides=(2, 2)),\n",
        "        layers.Conv2D(384, (3, 3), activation='relu'),\n",
        "        layers.Conv2D(384, (3, 3), activation='relu'),\n",
        "        layers.Conv2D(256, (3, 3), activation='relu'),\n",
        "        layers.MaxPooling2D(pool_size=(3, 3), strides=(2, 2)),\n",
        "        layers.Flatten(),\n",
        "        layers.Dense(4096, activation='relu'),\n",
        "        layers.Dropout(0.5),\n",
        "        layers.Dense(4096, activation='relu'),\n",
        "        layers.Dropout(0.5),\n",
        "        layers.Dense(1, activation='sigmoid')  # Output layer for binary classification\n",
        "    ])\n",
        "    return model\n"
      ],
      "metadata": {
        "id": "3ieuhYbaYIft"
      },
      "execution_count": 9,
      "outputs": []
    },
    {
      "cell_type": "markdown",
      "source": [
        "#VGG-16"
      ],
      "metadata": {
        "id": "WZXO7EzFYtok"
      }
    },
    {
      "cell_type": "code",
      "source": [
        "def build_vgg16(input_shape):\n",
        "    vgg16_model = tf.keras.applications.VGG16(include_top=False, weights='imagenet', input_shape=input_shape)\n",
        "    for layer in vgg16_model.layers:\n",
        "        layer.trainable = False  # Freeze the base model\n",
        "    model = models.Sequential([\n",
        "        vgg16_model,\n",
        "        layers.Flatten(),\n",
        "        layers.Dense(256, activation='relu'),\n",
        "        layers.Dense(1, activation='sigmoid')  # Output layer for binary classification\n",
        "    ])\n",
        "    return model\n"
      ],
      "metadata": {
        "id": "F1xXMVHGYLqg"
      },
      "execution_count": 10,
      "outputs": []
    },
    {
      "cell_type": "markdown",
      "source": [
        "#Inception-v1"
      ],
      "metadata": {
        "id": "WvVZ1UtTYwAi"
      }
    },
    {
      "cell_type": "code",
      "source": [
        "def build_inceptionv3(input_shape):\n",
        "    inception_model = tf.keras.applications.InceptionV3(include_top=False, weights='imagenet', input_shape=input_shape)\n",
        "    for layer in inception_model.layers:\n",
        "        layer.trainable = False  # Freeze the base model\n",
        "    model = models.Sequential([\n",
        "        inception_model,\n",
        "        layers.Flatten(),\n",
        "        layers.Dense(256, activation='relu'),\n",
        "        layers.Dense(1, activation='sigmoid')  # Output layer for binary classification\n",
        "    ])\n",
        "    return model\n",
        "\n"
      ],
      "metadata": {
        "id": "poNj9kidYMGa"
      },
      "execution_count": 11,
      "outputs": []
    },
    {
      "cell_type": "markdown",
      "source": [
        "#ResNet-50"
      ],
      "metadata": {
        "id": "7jzI9mBqY58a"
      }
    },
    {
      "cell_type": "code",
      "source": [
        "def build_resnet50(input_shape):\n",
        "    resnet50_model = tf.keras.applications.ResNet50(include_top=False, weights='imagenet', input_shape=input_shape)\n",
        "    for layer in resnet50_model.layers:\n",
        "        layer.trainable = False  # Freeze the base model\n",
        "    model = models.Sequential([\n",
        "        resnet50_model,\n",
        "        layers.Flatten(),\n",
        "        layers.Dense(256, activation='relu'),\n",
        "        layers.Dense(1, activation='sigmoid')  # Output layer for binary classification\n",
        "    ])\n",
        "    return model\n"
      ],
      "metadata": {
        "id": "8ZQFl_52YPF3"
      },
      "execution_count": 12,
      "outputs": []
    },
    {
      "cell_type": "markdown",
      "source": [
        "# Instantiate models"
      ],
      "metadata": {
        "id": "t68516jpZD0P"
      }
    },
    {
      "cell_type": "code",
      "source": [
        "lenet5_model = build_lenet5((224, 224, 3))\n",
        "alexnet_model = build_alexnet((224, 224, 3))\n",
        "vgg16_model = build_vgg16((224, 224, 3))\n",
        "resnet50_model = build_resnet50((224, 224, 3))\n",
        "inceptionv3_model = build_inceptionv3((224, 224, 3))"
      ],
      "metadata": {
        "id": "QvHYtiP_YZk3"
      },
      "execution_count": 13,
      "outputs": []
    },
    {
      "cell_type": "markdown",
      "source": [
        "#COMPARE"
      ],
      "metadata": {
        "id": "FA18GCNvZFOm"
      }
    },
    {
      "cell_type": "code",
      "source": [
        "models_to_train = [lenet5_model, alexnet_model, vgg16_model, resnet50_model, inceptionv3_model]\n",
        "model_names = ['LeNet-5', 'AlexNet', 'VGG-16', 'ResNet-50', 'Inception-v3']\n",
        "histories = []\n",
        "\n",
        "for i, model in enumerate(models_to_train):\n",
        "    print(f'Training {model_names[i]}...')\n",
        "    model.compile(optimizer='adam', loss='binary_crossentropy', metrics=['accuracy'])\n",
        "    history = model.fit(train_generator, epochs=5, validation_data=validation_generator)\n",
        "    histories.append(history)\n",
        "\n",
        "# Visualize accuracy\n",
        "plt.figure(figsize=(12, 6))\n",
        "for i, history in enumerate(histories):\n",
        "    plt.plot(history.history['val_accuracy'], label=model_names[i])\n",
        "plt.title('Model Validation Accuracy')\n",
        "plt.xlabel('Epochs')\n",
        "plt.ylabel('Validation Accuracy')\n",
        "plt.legend()\n",
        "plt.show()\n"
      ],
      "metadata": {
        "colab": {
          "base_uri": "https://localhost:8080/",
          "height": 1000
        },
        "id": "jlbt0HArYcEe",
        "outputId": "83867292-981a-49c1-d4d6-76a216114626"
      },
      "execution_count": 14,
      "outputs": [
        {
          "output_type": "stream",
          "name": "stdout",
          "text": [
            "Training LeNet-5...\n",
            "Epoch 1/5\n",
            "\u001b[1m63/63\u001b[0m \u001b[32m━━━━━━━━━━━━━━━━━━━━\u001b[0m\u001b[37m\u001b[0m \u001b[1m13s\u001b[0m 143ms/step - accuracy: 0.4984 - loss: 2.1991 - val_accuracy: 0.5000 - val_loss: 0.6934\n",
            "Epoch 2/5\n",
            "\u001b[1m63/63\u001b[0m \u001b[32m━━━━━━━━━━━━━━━━━━━━\u001b[0m\u001b[37m\u001b[0m \u001b[1m7s\u001b[0m 110ms/step - accuracy: 0.5096 - loss: 0.6932 - val_accuracy: 0.4990 - val_loss: 0.6932\n",
            "Epoch 3/5\n",
            "\u001b[1m63/63\u001b[0m \u001b[32m━━━━━━━━━━━━━━━━━━━━\u001b[0m\u001b[37m\u001b[0m \u001b[1m10s\u001b[0m 112ms/step - accuracy: 0.5100 - loss: 0.6936 - val_accuracy: 0.4990 - val_loss: 0.6932\n",
            "Epoch 4/5\n",
            "\u001b[1m63/63\u001b[0m \u001b[32m━━━━━━━━━━━━━━━━━━━━\u001b[0m\u001b[37m\u001b[0m \u001b[1m9s\u001b[0m 97ms/step - accuracy: 0.5094 - loss: 0.6937 - val_accuracy: 0.5000 - val_loss: 0.6935\n",
            "Epoch 5/5\n",
            "\u001b[1m63/63\u001b[0m \u001b[32m━━━━━━━━━━━━━━━━━━━━\u001b[0m\u001b[37m\u001b[0m \u001b[1m8s\u001b[0m 111ms/step - accuracy: 0.4940 - loss: 0.6941 - val_accuracy: 0.4990 - val_loss: 0.6932\n",
            "Training AlexNet...\n",
            "Epoch 1/5\n",
            "\u001b[1m63/63\u001b[0m \u001b[32m━━━━━━━━━━━━━━━━━━━━\u001b[0m\u001b[37m\u001b[0m \u001b[1m15s\u001b[0m 160ms/step - accuracy: 0.5076 - loss: 0.7065 - val_accuracy: 0.5000 - val_loss: 0.6935\n",
            "Epoch 2/5\n",
            "\u001b[1m63/63\u001b[0m \u001b[32m━━━━━━━━━━━━━━━━━━━━\u001b[0m\u001b[37m\u001b[0m \u001b[1m14s\u001b[0m 95ms/step - accuracy: 0.5180 - loss: 0.6927 - val_accuracy: 0.5000 - val_loss: 0.6933\n",
            "Epoch 3/5\n",
            "\u001b[1m63/63\u001b[0m \u001b[32m━━━━━━━━━━━━━━━━━━━━\u001b[0m\u001b[37m\u001b[0m \u001b[1m8s\u001b[0m 115ms/step - accuracy: 0.4834 - loss: 0.6941 - val_accuracy: 0.5000 - val_loss: 0.6932\n",
            "Epoch 4/5\n",
            "\u001b[1m63/63\u001b[0m \u001b[32m━━━━━━━━━━━━━━━━━━━━\u001b[0m\u001b[37m\u001b[0m \u001b[1m10s\u001b[0m 109ms/step - accuracy: 0.5181 - loss: 0.6938 - val_accuracy: 0.5000 - val_loss: 0.6932\n",
            "Epoch 5/5\n",
            "\u001b[1m63/63\u001b[0m \u001b[32m━━━━━━━━━━━━━━━━━━━━\u001b[0m\u001b[37m\u001b[0m \u001b[1m7s\u001b[0m 99ms/step - accuracy: 0.4814 - loss: 0.6941 - val_accuracy: 0.5000 - val_loss: 0.6932\n",
            "Training VGG-16...\n",
            "Epoch 1/5\n",
            "\u001b[1m63/63\u001b[0m \u001b[32m━━━━━━━━━━━━━━━━━━━━\u001b[0m\u001b[37m\u001b[0m \u001b[1m18s\u001b[0m 236ms/step - accuracy: 0.6407 - loss: 1.7384 - val_accuracy: 0.8980 - val_loss: 0.2858\n",
            "Epoch 2/5\n",
            "\u001b[1m63/63\u001b[0m \u001b[32m━━━━━━━━━━━━━━━━━━━━\u001b[0m\u001b[37m\u001b[0m \u001b[1m13s\u001b[0m 197ms/step - accuracy: 0.9100 - loss: 0.2486 - val_accuracy: 0.8620 - val_loss: 0.2913\n",
            "Epoch 3/5\n",
            "\u001b[1m63/63\u001b[0m \u001b[32m━━━━━━━━━━━━━━━━━━━━\u001b[0m\u001b[37m\u001b[0m \u001b[1m13s\u001b[0m 193ms/step - accuracy: 0.9472 - loss: 0.1560 - val_accuracy: 0.8990 - val_loss: 0.2312\n",
            "Epoch 4/5\n",
            "\u001b[1m63/63\u001b[0m \u001b[32m━━━━━━━━━━━━━━━━━━━━\u001b[0m\u001b[37m\u001b[0m \u001b[1m20s\u001b[0m 191ms/step - accuracy: 0.9745 - loss: 0.1044 - val_accuracy: 0.9130 - val_loss: 0.2038\n",
            "Epoch 5/5\n",
            "\u001b[1m63/63\u001b[0m \u001b[32m━━━━━━━━━━━━━━━━━━━━\u001b[0m\u001b[37m\u001b[0m \u001b[1m12s\u001b[0m 193ms/step - accuracy: 0.9881 - loss: 0.0625 - val_accuracy: 0.9150 - val_loss: 0.2051\n",
            "Training ResNet-50...\n",
            "Epoch 1/5\n",
            "\u001b[1m63/63\u001b[0m \u001b[32m━━━━━━━━━━━━━━━━━━━━\u001b[0m\u001b[37m\u001b[0m \u001b[1m27s\u001b[0m 254ms/step - accuracy: 0.5131 - loss: 4.5633 - val_accuracy: 0.5330 - val_loss: 0.9154\n",
            "Epoch 2/5\n",
            "\u001b[1m63/63\u001b[0m \u001b[32m━━━━━━━━━━━━━━━━━━━━\u001b[0m\u001b[37m\u001b[0m \u001b[1m10s\u001b[0m 148ms/step - accuracy: 0.5705 - loss: 0.7863 - val_accuracy: 0.6560 - val_loss: 0.6169\n",
            "Epoch 3/5\n",
            "\u001b[1m63/63\u001b[0m \u001b[32m━━━━━━━━━━━━━━━━━━━━\u001b[0m\u001b[37m\u001b[0m \u001b[1m9s\u001b[0m 138ms/step - accuracy: 0.6591 - loss: 0.6148 - val_accuracy: 0.6440 - val_loss: 0.6192\n",
            "Epoch 4/5\n",
            "\u001b[1m63/63\u001b[0m \u001b[32m━━━━━━━━━━━━━━━━━━━━\u001b[0m\u001b[37m\u001b[0m \u001b[1m10s\u001b[0m 148ms/step - accuracy: 0.6529 - loss: 0.6204 - val_accuracy: 0.6580 - val_loss: 0.6163\n",
            "Epoch 5/5\n",
            "\u001b[1m63/63\u001b[0m \u001b[32m━━━━━━━━━━━━━━━━━━━━\u001b[0m\u001b[37m\u001b[0m \u001b[1m10s\u001b[0m 147ms/step - accuracy: 0.6874 - loss: 0.5729 - val_accuracy: 0.6850 - val_loss: 0.6030\n",
            "Training Inception-v3...\n",
            "Epoch 1/5\n",
            "\u001b[1m63/63\u001b[0m \u001b[32m━━━━━━━━━━━━━━━━━━━━\u001b[0m\u001b[37m\u001b[0m \u001b[1m35s\u001b[0m 351ms/step - accuracy: 0.8910 - loss: 3.0181 - val_accuracy: 0.9790 - val_loss: 0.8106\n",
            "Epoch 2/5\n",
            "\u001b[1m63/63\u001b[0m \u001b[32m━━━━━━━━━━━━━━━━━━━━\u001b[0m\u001b[37m\u001b[0m \u001b[1m24s\u001b[0m 135ms/step - accuracy: 0.9811 - loss: 0.4968 - val_accuracy: 0.9060 - val_loss: 2.7938\n",
            "Epoch 3/5\n",
            "\u001b[1m63/63\u001b[0m \u001b[32m━━━━━━━━━━━━━━━━━━━━\u001b[0m\u001b[37m\u001b[0m \u001b[1m9s\u001b[0m 119ms/step - accuracy: 0.9797 - loss: 0.3634 - val_accuracy: 0.9900 - val_loss: 0.3921\n",
            "Epoch 4/5\n",
            "\u001b[1m63/63\u001b[0m \u001b[32m━━━━━━━━━━━━━━━━━━━━\u001b[0m\u001b[37m\u001b[0m \u001b[1m10s\u001b[0m 119ms/step - accuracy: 0.9964 - loss: 0.1017 - val_accuracy: 0.9830 - val_loss: 0.5840\n",
            "Epoch 5/5\n",
            "\u001b[1m63/63\u001b[0m \u001b[32m━━━━━━━━━━━━━━━━━━━━\u001b[0m\u001b[37m\u001b[0m \u001b[1m9s\u001b[0m 130ms/step - accuracy: 0.9973 - loss: 0.0806 - val_accuracy: 0.9800 - val_loss: 0.7979\n"
          ]
        },
        {
          "output_type": "display_data",
          "data": {
            "text/plain": [
              "<Figure size 1200x600 with 1 Axes>"
            ],
            "image/png": "[encoded data removed]"
          },
          "metadata": {}
        }
      ]
    }
  ]
}