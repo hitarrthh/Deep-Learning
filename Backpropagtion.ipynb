{
  "nbformat": 4,
  "nbformat_minor": 0,
  "metadata": {
    "colab": {
      "provenance": []
    },
    "kernelspec": {
      "name": "python3",
      "display_name": "Python 3"
    },
    "language_info": {
      "name": "python"
    }
  },
  "cells": [
    {
      "cell_type": "markdown",
      "source": [
        "NAME: HITARTH BHATT   SAP-ID: 60009220209 BATCH: D1-2"
      ],
      "metadata": {
        "id": "XWjdvHoNvUQJ"
      }
    },
    {
      "cell_type": "code",
      "source": [
        "import numpy as np\n",
        "import tensorflow as tf\n",
        "from sklearn.datasets import load_iris\n",
        "from sklearn.model_selection import train_test_split\n",
        "from sklearn.preprocessing import StandardScaler, OneHotEncoder\n",
        "import matplotlib.pyplot as plt\n",
        "from sklearn.metrics import confusion_matrix, classification_report\n",
        "# Load Iris dataset\n",
        "data = load_iris()\n",
        "X = data.data\n",
        "y = data.target"
      ],
      "metadata": {
        "id": "To6IfJvW7KDm"
      },
      "execution_count": null,
      "outputs": []
    },
    {
      "cell_type": "code",
      "source": [
        "# Standardize features\n",
        "scaler = StandardScaler()\n",
        "X = scaler.fit_transform(X)\n",
        "\n",
        "# One-hot encode target\n",
        "encoder = OneHotEncoder(sparse=False)\n",
        "y = encoder.fit_transform(y.reshape(-1, 1))"
      ],
      "metadata": {
        "colab": {
          "base_uri": "https://localhost:8080/"
        },
        "id": "xMPNxmj__ZFT",
        "outputId": "e719152d-5865-4dc0-a2e3-34e049d55172"
      },
      "execution_count": null,
      "outputs": [
        {
          "output_type": "stream",
          "name": "stderr",
          "text": [
            "/usr/local/lib/python3.10/dist-packages/sklearn/preprocessing/_encoders.py:975: FutureWarning: `sparse` was renamed to `sparse_output` in version 1.2 and will be removed in 1.4. `sparse_output` is ignored unless you leave `sparse` to its default value.\n",
            "  warnings.warn(\n"
          ]
        }
      ]
    },
    {
      "cell_type": "code",
      "source": [
        "# Split dataset\n",
        "X_train, X_test, y_train, y_test = train_test_split(X, y, test_size=0.3, random_state=42)"
      ],
      "metadata": {
        "id": "pcUJIhmSAqnl"
      },
      "execution_count": null,
      "outputs": []
    },
    {
      "cell_type": "code",
      "source": [
        "# Build the neural network\n",
        "model = tf.keras.Sequential([\n",
        "    tf.keras.layers.Dense(20, input_dim=X_train.shape[1], activation='relu', kernel_initializer='he_normal'),\n",
        "    tf.keras.layers.Dense(10, activation='relu', kernel_initializer='he_normal'),\n",
        "    tf.keras.layers.Dense(y_train.shape[1], activation='softmax')\n",
        "])\n",
        "\n",
        "# Compile the model\n",
        "model.compile(optimizer='adam',\n",
        "              loss='categorical_crossentropy',\n",
        "              metrics=['categorical_accuracy'])\n"
      ],
      "metadata": {
        "colab": {
          "base_uri": "https://localhost:8080/"
        },
        "id": "unX7eFr7Auk9",
        "outputId": "b28e503b-b530-40cf-ce2f-ed23f3a94365"
      },
      "execution_count": null,
      "outputs": [
        {
          "output_type": "stream",
          "name": "stderr",
          "text": [
            "/usr/local/lib/python3.10/dist-packages/keras/src/layers/core/dense.py:87: UserWarning: Do not pass an `input_shape`/`input_dim` argument to a layer. When using Sequential models, prefer using an `Input(shape)` object as the first layer in the model instead.\n",
            "  super().__init__(activity_regularizer=activity_regularizer, **kwargs)\n"
          ]
        }
      ]
    },
    {
      "cell_type": "code",
      "source": [
        "# Custom metrics tracking\n",
        "class MetricsLogger(tf.keras.callbacks.Callback):\n",
        "    def on_epoch_end(self, epoch, logs=None):\n",
        "        if logs is not None:\n",
        "            self.losses.append(logs.get('loss'))\n",
        "            self.accuracies.append(logs.get('categorical_accuracy'))\n",
        "\n",
        "metrics_logger = MetricsLogger()\n",
        "metrics_logger.losses = []\n",
        "metrics_logger.accuracies = []\n"
      ],
      "metadata": {
        "id": "U8TceCYUA0rU"
      },
      "execution_count": null,
      "outputs": []
    },
    {
      "cell_type": "code",
      "source": [
        "# Custom training loop\n",
        "def train_model(X_train, y_train, model, epochs, batch_size, metrics_logger):\n",
        "    for epoch in range(epochs):\n",
        "        # Reset metrics for each epoch\n",
        "        epoch_loss_metric = tf.keras.metrics.Mean()\n",
        "        epoch_accuracy_metric = tf.keras.metrics.CategoricalAccuracy()\n",
        "\n",
        "        num_batches = X_train.shape[0] // batch_size\n",
        "        for batch_start in range(0, X_train.shape[0], batch_size):\n",
        "            X_batch = X_train[batch_start:batch_start + batch_size]\n",
        "            y_batch = y_train[batch_start:batch_start + batch_size]\n",
        "\n",
        "            with tf.GradientTape() as tape:\n",
        "                # Forward pass\n",
        "                logits = model(X_batch, training=True)\n",
        "                loss = model.compiled_loss(y_batch, logits)\n",
        "\n",
        "            # Compute gradients and update weights\n",
        "            gradients = tape.gradient(loss, model.trainable_variables)\n",
        "            model.optimizer.apply_gradients(zip(gradients, model.trainable_variables))\n",
        "\n",
        "            # Compute metrics\n",
        "            epoch_accuracy_metric.update_state(y_batch, logits)\n",
        "            epoch_loss_metric.update_state(loss)\n",
        "\n",
        "        # Log metrics at the end of the epoch\n",
        "        metrics_logger.losses.append(epoch_loss_metric.result().numpy())\n",
        "        metrics_logger.accuracies.append(epoch_accuracy_metric.result().numpy())\n",
        "\n",
        "        # Print epoch completion\n",
        "        print(f'Epoch {epoch + 1}/{epochs} completed.')\n"
      ],
      "metadata": {
        "id": "EPnCb-ddA4mk"
      },
      "execution_count": null,
      "outputs": []
    },
    {
      "cell_type": "code",
      "source": [
        "# Define number of epochs and batch size\n",
        "epochs = 100  # Number of epochs\n",
        "batch_size = 16  # Batch size"
      ],
      "metadata": {
        "id": "XeOgBZKPA7mc"
      },
      "execution_count": null,
      "outputs": []
    },
    {
      "cell_type": "code",
      "source": [
        "# Train the model with the custom loop\n",
        "train_model(X_train, y_train, model, epochs, batch_size, metrics_logger)"
      ],
      "metadata": {
        "colab": {
          "base_uri": "https://localhost:8080/"
        },
        "id": "ErxlKnkZA_1c",
        "outputId": "c75259dd-108d-4c8a-aad2-b55f3556fed0"
      },
      "execution_count": null,
      "outputs": [
        {
          "output_type": "stream",
          "name": "stderr",
          "text": [
            "/usr/local/lib/python3.10/dist-packages/keras/src/backend/tensorflow/trainer.py:607: UserWarning: `model.compiled_loss()` is deprecated. Instead, use `model.compute_loss(x, y, y_pred, sample_weight, training)`.\n",
            "  warnings.warn(\n"
          ]
        },
        {
          "output_type": "stream",
          "name": "stdout",
          "text": [
            "Epoch 1/100 completed.\n",
            "Epoch 2/100 completed.\n",
            "Epoch 3/100 completed.\n",
            "Epoch 4/100 completed.\n",
            "Epoch 5/100 completed.\n",
            "Epoch 6/100 completed.\n",
            "Epoch 7/100 completed.\n",
            "Epoch 8/100 completed.\n",
            "Epoch 9/100 completed.\n",
            "Epoch 10/100 completed.\n",
            "Epoch 11/100 completed.\n",
            "Epoch 12/100 completed.\n",
            "Epoch 13/100 completed.\n",
            "Epoch 14/100 completed.\n",
            "Epoch 15/100 completed.\n",
            "Epoch 16/100 completed.\n",
            "Epoch 17/100 completed.\n",
            "Epoch 18/100 completed.\n",
            "Epoch 19/100 completed.\n",
            "Epoch 20/100 completed.\n",
            "Epoch 21/100 completed.\n",
            "Epoch 22/100 completed.\n",
            "Epoch 23/100 completed.\n",
            "Epoch 24/100 completed.\n",
            "Epoch 25/100 completed.\n",
            "Epoch 26/100 completed.\n",
            "Epoch 27/100 completed.\n",
            "Epoch 28/100 completed.\n",
            "Epoch 29/100 completed.\n",
            "Epoch 30/100 completed.\n",
            "Epoch 31/100 completed.\n",
            "Epoch 32/100 completed.\n",
            "Epoch 33/100 completed.\n",
            "Epoch 34/100 completed.\n",
            "Epoch 35/100 completed.\n",
            "Epoch 36/100 completed.\n",
            "Epoch 37/100 completed.\n",
            "Epoch 38/100 completed.\n",
            "Epoch 39/100 completed.\n",
            "Epoch 40/100 completed.\n",
            "Epoch 41/100 completed.\n",
            "Epoch 42/100 completed.\n",
            "Epoch 43/100 completed.\n",
            "Epoch 44/100 completed.\n",
            "Epoch 45/100 completed.\n",
            "Epoch 46/100 completed.\n",
            "Epoch 47/100 completed.\n",
            "Epoch 48/100 completed.\n",
            "Epoch 49/100 completed.\n",
            "Epoch 50/100 completed.\n",
            "Epoch 51/100 completed.\n",
            "Epoch 52/100 completed.\n",
            "Epoch 53/100 completed.\n",
            "Epoch 54/100 completed.\n",
            "Epoch 55/100 completed.\n",
            "Epoch 56/100 completed.\n",
            "Epoch 57/100 completed.\n",
            "Epoch 58/100 completed.\n",
            "Epoch 59/100 completed.\n",
            "Epoch 60/100 completed.\n",
            "Epoch 61/100 completed.\n",
            "Epoch 62/100 completed.\n",
            "Epoch 63/100 completed.\n",
            "Epoch 64/100 completed.\n",
            "Epoch 65/100 completed.\n",
            "Epoch 66/100 completed.\n",
            "Epoch 67/100 completed.\n",
            "Epoch 68/100 completed.\n",
            "Epoch 69/100 completed.\n",
            "Epoch 70/100 completed.\n",
            "Epoch 71/100 completed.\n",
            "Epoch 72/100 completed.\n",
            "Epoch 73/100 completed.\n",
            "Epoch 74/100 completed.\n",
            "Epoch 75/100 completed.\n",
            "Epoch 76/100 completed.\n",
            "Epoch 77/100 completed.\n",
            "Epoch 78/100 completed.\n",
            "Epoch 79/100 completed.\n",
            "Epoch 80/100 completed.\n",
            "Epoch 81/100 completed.\n",
            "Epoch 82/100 completed.\n",
            "Epoch 83/100 completed.\n",
            "Epoch 84/100 completed.\n",
            "Epoch 85/100 completed.\n",
            "Epoch 86/100 completed.\n",
            "Epoch 87/100 completed.\n",
            "Epoch 88/100 completed.\n",
            "Epoch 89/100 completed.\n",
            "Epoch 90/100 completed.\n",
            "Epoch 91/100 completed.\n",
            "Epoch 92/100 completed.\n",
            "Epoch 93/100 completed.\n",
            "Epoch 94/100 completed.\n",
            "Epoch 95/100 completed.\n",
            "Epoch 96/100 completed.\n",
            "Epoch 97/100 completed.\n",
            "Epoch 98/100 completed.\n",
            "Epoch 99/100 completed.\n",
            "Epoch 100/100 completed.\n"
          ]
        }
      ]
    },
    {
      "cell_type": "code",
      "source": [
        "# Plot MSE and accuracy\n",
        "plt.figure(figsize=(15, 6))\n",
        "\n",
        "plt.subplot(1, 2, 1)\n",
        "plt.plot(range(1, epochs + 1), metrics_logger.losses, marker='o')\n",
        "plt.xlabel('Epoch')\n",
        "plt.ylabel('Mean Squared Error')\n",
        "plt.title('Loss vs. Epoch')\n",
        "\n",
        "plt.subplot(1, 2, 2)\n",
        "plt.plot(range(1, epochs + 1), metrics_logger.accuracies, marker='o')\n",
        "plt.xlabel('Epoch')\n",
        "plt.ylabel('Accuracy')\n",
        "plt.title('Accuracy vs. Epoch')\n",
        "\n",
        "plt.tight_layout()\n",
        "plt.show()\n",
        "\n",
        "# Evaluate the model on test data\n",
        "test_loss, test_accuracy = model.evaluate(X_test, y_test)\n",
        "print(f\"Test Loss: {test_loss:.4f}\")\n",
        "print(f\"Test Accuracy: {test_accuracy * 100:.2f}%\")"
      ],
      "metadata": {
        "colab": {
          "base_uri": "https://localhost:8080/",
          "height": 659
        },
        "id": "NNSZAu1RBFjs",
        "outputId": "af0464b8-6466-483a-ec2b-da4190554f7b"
      },
      "execution_count": null,
      "outputs": [
        {
          "output_type": "display_data",
          "data": {
            "text/plain": [
              "<Figure size 1500x600 with 2 Axes>"
            ],
            "image/png": "[encoded data removed]"
          },
          "metadata": {}
        },
        {
          "output_type": "stream",
          "name": "stdout",
          "text": [
            "\u001b[1m2/2\u001b[0m \u001b[32m━━━━━━━━━━━━━━━━━━━━\u001b[0m\u001b[37m\u001b[0m \u001b[1m0s\u001b[0m 5ms/step - categorical_accuracy: 1.0000 - loss: 0.0615 \n",
            "Test Loss: 0.0598\n",
            "Test Accuracy: 100.00%\n"
          ]
        }
      ]
    },
    {
      "cell_type": "code",
      "source": [
        "# Make predictions\n",
        "y_pred = model.predict(X_test)\n",
        "y_pred_classes = np.argmax(y_pred, axis=1)\n",
        "y_true_classes = np.argmax(y_test, axis=1)\n",
        "\n",
        "# Confusion matrix\n",
        "\n",
        "\n",
        "conf_matrix = confusion_matrix(y_true_classes, y_pred_classes)\n",
        "print(\"Confusion Matrix:\")\n",
        "print(conf_matrix)\n",
        "\n",
        "print(\"\\nClassification Report:\")\n",
        "print(classification_report(y_true_classes, y_pred_classes, target_names=data.target_names))\n"
      ],
      "metadata": {
        "colab": {
          "base_uri": "https://localhost:8080/"
        },
        "id": "D1pchjKTBOQO",
        "outputId": "8ce08c65-70fe-41dc-d0fc-3497d64a84fb"
      },
      "execution_count": null,
      "outputs": [
        {
          "output_type": "stream",
          "name": "stdout",
          "text": [
            "\u001b[1m2/2\u001b[0m \u001b[32m━━━━━━━━━━━━━━━━━━━━\u001b[0m\u001b[37m\u001b[0m \u001b[1m0s\u001b[0m 32ms/step\n",
            "Confusion Matrix:\n",
            "[[19  0  0]\n",
            " [ 0 13  0]\n",
            " [ 0  0 13]]\n",
            "\n",
            "Classification Report:\n",
            "              precision    recall  f1-score   support\n",
            "\n",
            "      setosa       1.00      1.00      1.00        19\n",
            "  versicolor       1.00      1.00      1.00        13\n",
            "   virginica       1.00      1.00      1.00        13\n",
            "\n",
            "    accuracy                           1.00        45\n",
            "   macro avg       1.00      1.00      1.00        45\n",
            "weighted avg       1.00      1.00      1.00        45\n",
            "\n"
          ]
        }
      ]
    }
  ]
}