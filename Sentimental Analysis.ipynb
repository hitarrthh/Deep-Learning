{
  "nbformat": 4,
  "nbformat_minor": 0,
  "metadata": {
    "colab": {
      "provenance": [],
      "gpuType": "V28"
    },
    "kernelspec": {
      "name": "python3",
      "display_name": "Python 3"
    },
    "language_info": {
      "name": "python"
    },
    "accelerator": "TPU"
  },
  "cells": [
    {
      "cell_type": "code",
      "source": [
        "pip install keras-tuner --upgrade"
      ],
      "metadata": {
        "colab": {
          "base_uri": "https://localhost:8080/"
        },
        "collapsed": true,
        "id": "9gOe1gNcMt0B",
        "outputId": "f0a85c04-0218-4b12-b04f-e3486c006c29"
      },
      "execution_count": 1,
      "outputs": [
        {
          "output_type": "stream",
          "name": "stdout",
          "text": [
            "Collecting keras-tuner\n",
            "  Downloading keras_tuner-1.4.7-py3-none-any.whl.metadata (5.4 kB)\n",
            "Requirement already satisfied: keras in /usr/local/lib/python3.10/dist-packages (from keras-tuner) (3.4.1)\n",
            "Requirement already satisfied: packaging in /usr/local/lib/python3.10/dist-packages (from keras-tuner) (24.1)\n",
            "Requirement already satisfied: requests in /usr/local/lib/python3.10/dist-packages (from keras-tuner) (2.32.3)\n",
            "Collecting kt-legacy (from keras-tuner)\n",
            "  Downloading kt_legacy-1.0.5-py3-none-any.whl.metadata (221 bytes)\n",
            "Requirement already satisfied: absl-py in /usr/local/lib/python3.10/dist-packages (from keras->keras-tuner) (1.4.0)\n",
            "Requirement already satisfied: numpy in /usr/local/lib/python3.10/dist-packages (from keras->keras-tuner) (1.26.4)\n",
            "Requirement already satisfied: rich in /usr/local/lib/python3.10/dist-packages (from keras->keras-tuner) (13.8.1)\n",
            "Requirement already satisfied: namex in /usr/local/lib/python3.10/dist-packages (from keras->keras-tuner) (0.0.8)\n",
            "Requirement already satisfied: h5py in /usr/local/lib/python3.10/dist-packages (from keras->keras-tuner) (3.11.0)\n",
            "Requirement already satisfied: optree in /usr/local/lib/python3.10/dist-packages (from keras->keras-tuner) (0.12.1)\n",
            "Requirement already satisfied: ml-dtypes in /usr/local/lib/python3.10/dist-packages (from keras->keras-tuner) (0.4.1)\n",
            "Requirement already satisfied: charset-normalizer<4,>=2 in /usr/local/lib/python3.10/dist-packages (from requests->keras-tuner) (3.3.2)\n",
            "Requirement already satisfied: idna<4,>=2.5 in /usr/local/lib/python3.10/dist-packages (from requests->keras-tuner) (3.10)\n",
            "Requirement already satisfied: urllib3<3,>=1.21.1 in /usr/local/lib/python3.10/dist-packages (from requests->keras-tuner) (2.2.3)\n",
            "Requirement already satisfied: certifi>=2017.4.17 in /usr/local/lib/python3.10/dist-packages (from requests->keras-tuner) (2024.8.30)\n",
            "Requirement already satisfied: typing-extensions>=4.5.0 in /usr/local/lib/python3.10/dist-packages (from optree->keras->keras-tuner) (4.12.2)\n",
            "Requirement already satisfied: markdown-it-py>=2.2.0 in /usr/local/lib/python3.10/dist-packages (from rich->keras->keras-tuner) (3.0.0)\n",
            "Requirement already satisfied: pygments<3.0.0,>=2.13.0 in /usr/local/lib/python3.10/dist-packages (from rich->keras->keras-tuner) (2.18.0)\n",
            "Requirement already satisfied: mdurl~=0.1 in /usr/local/lib/python3.10/dist-packages (from markdown-it-py>=2.2.0->rich->keras->keras-tuner) (0.1.2)\n",
            "Downloading keras_tuner-1.4.7-py3-none-any.whl (129 kB)\n",
            "\u001b[2K   \u001b[90m━━━━━━━━━━━━━━━━━━━━━━━━━━━━━━━━━━━━━━━━\u001b[0m \u001b[32m129.1/129.1 kB\u001b[0m \u001b[31m2.2 MB/s\u001b[0m eta \u001b[36m0:00:00\u001b[0m\n",
            "\u001b[?25hDownloading kt_legacy-1.0.5-py3-none-any.whl (9.6 kB)\n",
            "Installing collected packages: kt-legacy, keras-tuner\n",
            "Successfully installed keras-tuner-1.4.7 kt-legacy-1.0.5\n"
          ]
        }
      ]
    },
    {
      "cell_type": "code",
      "source": [
        "import pandas as pd\n",
        "import numpy as np\n",
        "from sklearn.model_selection import train_test_split\n",
        "from sklearn.preprocessing import LabelEncoder, OneHotEncoder\n",
        "from sklearn.metrics import classification_report\n",
        "import tensorflow as tf\n",
        "from tensorflow.keras.preprocessing.text import Tokenizer\n",
        "from tensorflow.keras.preprocessing.sequence import pad_sequences\n",
        "from tensorflow.keras.models import Sequential\n",
        "from tensorflow.keras.layers import Embedding, LSTM, Dense, Dropout\n",
        "from textblob.classifiers import NaiveBayesClassifier\n",
        "from sklearn.metrics import accuracy_score\n",
        "import nltk\n",
        "nltk.download('punkt')\n",
        "import keras_tuner as kt\n",
        "from tensorflow.keras.optimizers import Adam\n"
      ],
      "metadata": {
        "colab": {
          "base_uri": "https://localhost:8080/"
        },
        "id": "LfrGcvzmHPRn",
        "outputId": "4bb9beeb-3c35-40c0-99b7-5ff62cdfd482"
      },
      "execution_count": 9,
      "outputs": [
        {
          "output_type": "stream",
          "name": "stderr",
          "text": [
            "[nltk_data] Downloading package punkt to /root/nltk_data...\n",
            "[nltk_data]   Package punkt is already up-to-date!\n"
          ]
        }
      ]
    },
    {
      "cell_type": "code",
      "source": [
        "df = pd.read_csv('/content/amazon_alexa.tsv', sep='\\t')"
      ],
      "metadata": {
        "id": "c32TzgwiJot7"
      },
      "execution_count": 3,
      "outputs": []
    },
    {
      "cell_type": "markdown",
      "source": [
        "#PRE-PROCESSING"
      ],
      "metadata": {
        "id": "4lddNGxqJyCZ"
      }
    },
    {
      "cell_type": "code",
      "source": [
        "df['verified_reviews'] = df['verified_reviews'].astype(str).fillna('')\n",
        "\n",
        "# Tokenization and padding\n",
        "tokenizer = Tokenizer(num_words=5000)\n",
        "tokenizer.fit_on_texts(df['verified_reviews'])\n",
        "X_seq = tokenizer.texts_to_sequences(df['verified_reviews'])\n",
        "X_pad = pad_sequences(X_seq, maxlen=200)\n",
        "\n",
        "# Label encoding for target\n",
        "label_encoder = LabelEncoder()\n",
        "y_encoded = label_encoder.fit_transform(df['feedback'])"
      ],
      "metadata": {
        "id": "17vHePgfJt91"
      },
      "execution_count": 4,
      "outputs": []
    },
    {
      "cell_type": "code",
      "source": [
        "# Train-test split\n",
        "X_train, X_test, y_train, y_test = train_test_split(X_pad, y_encoded, test_size=0.2, random_state=42)"
      ],
      "metadata": {
        "id": "VCrkhQxfJwMs"
      },
      "execution_count": 5,
      "outputs": []
    },
    {
      "cell_type": "markdown",
      "source": [
        "#LSTM MODEL"
      ],
      "metadata": {
        "id": "oY0_OGnMLUGq"
      }
    },
    {
      "cell_type": "code",
      "source": [
        "model = Sequential([\n",
        "    Embedding(input_dim=5000, output_dim=128, input_length=200),\n",
        "    LSTM(units=128, return_sequences=True),\n",
        "    Dropout(0.3),\n",
        "    LSTM(units=64),\n",
        "    Dense(64, activation='relu'),\n",
        "    Dropout(0.2),\n",
        "    Dense(1, activation='sigmoid')\n",
        "])\n",
        "\n",
        "model.compile(optimizer='adam', loss='binary_crossentropy', metrics=['accuracy'])\n",
        "\n",
        "# Train the model\n",
        "history = model.fit(X_train, y_train, validation_data=(X_test, y_test), epochs=5, batch_size=32)\n",
        "\n",
        "# Evaluate the model\n",
        "y_pred = (model.predict(X_test) > 0.5).astype(\"int32\")\n",
        "print(classification_report(y_test, y_pred))\n"
      ],
      "metadata": {
        "colab": {
          "base_uri": "https://localhost:8080/"
        },
        "id": "T4URJ6mrLSL8",
        "outputId": "46cb1f86-f982-49b8-f605-19f0832da4c8"
      },
      "execution_count": 6,
      "outputs": [
        {
          "output_type": "stream",
          "name": "stderr",
          "text": [
            "/usr/local/lib/python3.10/dist-packages/keras/src/layers/core/embedding.py:90: UserWarning: Argument `input_length` is deprecated. Just remove it.\n",
            "  warnings.warn(\n"
          ]
        },
        {
          "output_type": "stream",
          "name": "stdout",
          "text": [
            "Epoch 1/5\n",
            "\u001b[1m79/79\u001b[0m \u001b[32m━━━━━━━━━━━━━━━━━━━━\u001b[0m\u001b[37m\u001b[0m \u001b[1m69s\u001b[0m 750ms/step - accuracy: 0.9216 - loss: 0.3635 - val_accuracy: 0.9079 - val_loss: 0.3211\n",
            "Epoch 2/5\n",
            "\u001b[1m79/79\u001b[0m \u001b[32m━━━━━━━━━━━━━━━━━━━━\u001b[0m\u001b[37m\u001b[0m \u001b[1m71s\u001b[0m 617ms/step - accuracy: 0.9263 - loss: 0.2653 - val_accuracy: 0.9079 - val_loss: 0.3062\n",
            "Epoch 3/5\n",
            "\u001b[1m79/79\u001b[0m \u001b[32m━━━━━━━━━━━━━━━━━━━━\u001b[0m\u001b[37m\u001b[0m \u001b[1m77s\u001b[0m 558ms/step - accuracy: 0.9184 - loss: 0.2865 - val_accuracy: 0.9079 - val_loss: 0.2921\n",
            "Epoch 4/5\n",
            "\u001b[1m79/79\u001b[0m \u001b[32m━━━━━━━━━━━━━━━━━━━━\u001b[0m\u001b[37m\u001b[0m \u001b[1m83s\u001b[0m 562ms/step - accuracy: 0.9216 - loss: 0.2435 - val_accuracy: 0.9079 - val_loss: 0.2090\n",
            "Epoch 5/5\n",
            "\u001b[1m79/79\u001b[0m \u001b[32m━━━━━━━━━━━━━━━━━━━━\u001b[0m\u001b[37m\u001b[0m \u001b[1m82s\u001b[0m 564ms/step - accuracy: 0.9383 - loss: 0.1333 - val_accuracy: 0.9222 - val_loss: 0.1966\n",
            "\u001b[1m20/20\u001b[0m \u001b[32m━━━━━━━━━━━━━━━━━━━━\u001b[0m\u001b[37m\u001b[0m \u001b[1m3s\u001b[0m 149ms/step\n",
            "              precision    recall  f1-score   support\n",
            "\n",
            "           0       0.66      0.33      0.44        58\n",
            "           1       0.94      0.98      0.96       572\n",
            "\n",
            "    accuracy                           0.92       630\n",
            "   macro avg       0.80      0.66      0.70       630\n",
            "weighted avg       0.91      0.92      0.91       630\n",
            "\n"
          ]
        }
      ]
    },
    {
      "cell_type": "markdown",
      "source": [
        "#HYPERPARAMETER TUINING"
      ],
      "metadata": {
        "id": "tmzMV9onKsUF"
      }
    },
    {
      "cell_type": "code",
      "source": [
        "def build_model(hp):\n",
        "    model = Sequential()\n",
        "\n",
        "    # Embedding Layer\n",
        "    model.add(Embedding(input_dim=5000, output_dim=128, input_length=200))\n",
        "\n",
        "    # First LSTM Layer\n",
        "    units1 = hp.Int('units1', min_value=32, max_value=128, step=16)\n",
        "    model.add(LSTM(units=units1, return_sequences=True))\n",
        "\n",
        "    # Dropout Layer\n",
        "    dropout_rate = hp.Float('dropout_rate', min_value=0.2, max_value=0.5, step=0.1)\n",
        "    model.add(Dropout(dropout_rate))\n",
        "\n",
        "    # Second LSTM Layer\n",
        "    units2 = hp.Int('units2', min_value=32, max_value=128, step=16)\n",
        "    model.add(LSTM(units=units2))\n",
        "\n",
        "    # Dense Layer\n",
        "    model.add(Dense(64, activation='relu'))\n",
        "    model.add(Dropout(0.2))\n",
        "\n",
        "    # Output Layer\n",
        "    model.add(Dense(1, activation='sigmoid'))\n",
        "\n",
        "    # Compile the model with a tunable learning rate\n",
        "    learning_rate = hp.Float('learning_rate', min_value=1e-4, max_value=1e-2, sampling='log')\n",
        "    model.compile(optimizer=Adam(learning_rate=learning_rate),\n",
        "                  loss='binary_crossentropy',\n",
        "                  metrics=['accuracy'])\n",
        "\n",
        "    return model\n"
      ],
      "metadata": {
        "id": "QWHRlCo0HPy8"
      },
      "execution_count": 7,
      "outputs": []
    },
    {
      "cell_type": "code",
      "source": [
        "tuner = kt.RandomSearch(\n",
        "    build_model,\n",
        "    objective='val_accuracy',  # Maximize validation accuracy\n",
        "    max_trials=10,  # Try 10 different sets of hyperparameters\n",
        "    executions_per_trial=1,  # Number of models to train per trial\n",
        "    directory='tuning_dir',  # Directory to save logs\n",
        "    project_name='lstm_tuning'  # Name of the tuning project\n",
        ")\n"
      ],
      "metadata": {
        "id": "hxtpwrdGLDbJ"
      },
      "execution_count": 10,
      "outputs": []
    },
    {
      "cell_type": "code",
      "source": [
        "tuner.search(X_train, y_train,\n",
        "             validation_data=(X_test, y_test),\n",
        "             epochs=5,\n",
        "             batch_size=32)\n"
      ],
      "metadata": {
        "colab": {
          "base_uri": "https://localhost:8080/"
        },
        "id": "GzUa7BHdLFmZ",
        "outputId": "6cb0863f-5e9d-4bd4-9852-86fcf38d1fb4"
      },
      "execution_count": 11,
      "outputs": [
        {
          "output_type": "stream",
          "name": "stdout",
          "text": [
            "Trial 10 Complete [00h 02m 51s]\n",
            "val_accuracy: 0.9396825432777405\n",
            "\n",
            "Best val_accuracy So Far: 0.9396825432777405\n",
            "Total elapsed time: 00h 34m 11s\n"
          ]
        }
      ]
    },
    {
      "cell_type": "code",
      "source": [
        "best_hps = tuner.get_best_hyperparameters(num_trials=1)[0]\n",
        "print(f\"Best Units1: {best_hps.get('units1')}\")\n",
        "print(f\"Best Units2: {best_hps.get('units2')}\")\n",
        "print(f\"Best Dropout Rate: {best_hps.get('dropout_rate')}\")\n",
        "print(f\"Best Learning Rate: {best_hps.get('learning_rate')}\")\n",
        "\n",
        "# Build the best model\n",
        "best_model = tuner.hypermodel.build(best_hps)\n",
        "\n",
        "# Train the best model\n",
        "history_best = best_model.fit(X_train, y_train,\n",
        "                              validation_data=(X_test, y_test),\n",
        "                              epochs=5,\n",
        "                              batch_size=32)\n"
      ],
      "metadata": {
        "colab": {
          "base_uri": "https://localhost:8080/"
        },
        "id": "gUaLYdjyLKqr",
        "outputId": "200b8c05-1313-45d3-c1af-b707587e8bd0"
      },
      "execution_count": 12,
      "outputs": [
        {
          "output_type": "stream",
          "name": "stdout",
          "text": [
            "Best Units1: 32\n",
            "Best Units2: 64\n",
            "Best Dropout Rate: 0.2\n",
            "Best Learning Rate: 0.004737198185425148\n",
            "Epoch 1/5\n",
            "\u001b[1m79/79\u001b[0m \u001b[32m━━━━━━━━━━━━━━━━━━━━\u001b[0m\u001b[37m\u001b[0m \u001b[1m24s\u001b[0m 253ms/step - accuracy: 0.8818 - loss: 0.3339 - val_accuracy: 0.9143 - val_loss: 0.2614\n",
            "Epoch 2/5\n",
            "\u001b[1m79/79\u001b[0m \u001b[32m━━━━━━━━━━━━━━━━━━━━\u001b[0m\u001b[37m\u001b[0m \u001b[1m18s\u001b[0m 229ms/step - accuracy: 0.9564 - loss: 0.1318 - val_accuracy: 0.9206 - val_loss: 0.2112\n",
            "Epoch 3/5\n",
            "\u001b[1m79/79\u001b[0m \u001b[32m━━━━━━━━━━━━━━━━━━━━\u001b[0m\u001b[37m\u001b[0m \u001b[1m20s\u001b[0m 229ms/step - accuracy: 0.9725 - loss: 0.0708 - val_accuracy: 0.9302 - val_loss: 0.1692\n",
            "Epoch 4/5\n",
            "\u001b[1m79/79\u001b[0m \u001b[32m━━━━━━━━━━━━━━━━━━━━\u001b[0m\u001b[37m\u001b[0m \u001b[1m20s\u001b[0m 226ms/step - accuracy: 0.9902 - loss: 0.0298 - val_accuracy: 0.9317 - val_loss: 0.3231\n",
            "Epoch 5/5\n",
            "\u001b[1m79/79\u001b[0m \u001b[32m━━━━━━━━━━━━━━━━━━━━\u001b[0m\u001b[37m\u001b[0m \u001b[1m18s\u001b[0m 232ms/step - accuracy: 0.9909 - loss: 0.0264 - val_accuracy: 0.9222 - val_loss: 0.2507\n"
          ]
        }
      ]
    },
    {
      "cell_type": "code",
      "source": [
        "y_pred_best = (best_model.predict(X_test) > 0.5).astype(\"int32\")\n",
        "print(\"After tuning with Keras Tuner:\")\n",
        "print(classification_report(y_test, y_pred_best))"
      ],
      "metadata": {
        "colab": {
          "base_uri": "https://localhost:8080/"
        },
        "id": "OJidSL8jLOBr",
        "outputId": "388334f9-8c9b-4cc6-9952-84264fec3846"
      },
      "execution_count": 13,
      "outputs": [
        {
          "output_type": "stream",
          "name": "stdout",
          "text": [
            "\u001b[1m20/20\u001b[0m \u001b[32m━━━━━━━━━━━━━━━━━━━━\u001b[0m\u001b[37m\u001b[0m \u001b[1m2s\u001b[0m 102ms/step\n",
            "After tuning with Keras Tuner:\n",
            "              precision    recall  f1-score   support\n",
            "\n",
            "           0       0.60      0.48      0.53        58\n",
            "           1       0.95      0.97      0.96       572\n",
            "\n",
            "    accuracy                           0.92       630\n",
            "   macro avg       0.77      0.72      0.75       630\n",
            "weighted avg       0.92      0.92      0.92       630\n",
            "\n"
          ]
        }
      ]
    },
    {
      "cell_type": "markdown",
      "source": [
        "#TEXTBOB"
      ],
      "metadata": {
        "id": "nBomINXnKyBG"
      }
    },
    {
      "cell_type": "code",
      "source": [
        "# TextBlob requires text in a specific format\n",
        "train_data = [(review, 'pos' if label == 1 else 'neg') for review, label in zip(df['verified_reviews'], df['feedback'])]\n",
        "train_data, test_data = train_test_split(train_data, test_size=0.2, random_state=42)\n",
        "\n",
        "# Train TextBlob classifier\n",
        "textblob_classifier = NaiveBayesClassifier(train_data)\n",
        "\n",
        "# Test the TextBlob classifier\n",
        "textblob_pred = [textblob_classifier.classify(text) for text, label in test_data]\n",
        "true_labels = [label for text, label in test_data]\n",
        "\n",
        "# Convert 'pos'/'neg' back to 1/0 for comparison\n",
        "y_test_blob = [1 if label == 'pos' else 0 for label in true_labels]\n",
        "y_pred_blob = [1 if label == 'pos' else 0 for label in textblob_pred]\n",
        "\n",
        "# Accuracy comparison\n",
        "print(\"TextBlob Accuracy:\", accuracy_score(y_test_blob, y_pred_blob))\n",
        "print(\"LSTM Accuracy:\", accuracy_score(y_test, y_pred))"
      ],
      "metadata": {
        "colab": {
          "base_uri": "https://localhost:8080/"
        },
        "id": "eTITlKREHSh5",
        "outputId": "35728f54-2419-48c1-ae59-e8f82b1bceb3"
      },
      "execution_count": 14,
      "outputs": [
        {
          "output_type": "stream",
          "name": "stdout",
          "text": [
            "TextBlob Accuracy: 0.8809523809523809\n",
            "LSTM Accuracy: 0.9222222222222223\n"
          ]
        }
      ]
    },
    {
      "cell_type": "markdown",
      "source": [
        "#USER-DEFINED REVIEW\n"
      ],
      "metadata": {
        "id": "MM2ZEOmVYxEp"
      }
    },
    {
      "cell_type": "code",
      "source": [
        "import nltk\n",
        "from textblob import TextBlob\n",
        "\n",
        "# Download necessary resources for TextBlob\n",
        "nltk.download('punkt')\n",
        "\n",
        "# Function to classify a user-defined review using TextBlob\n",
        "def classify_review_textblob(review):\n",
        "    blob = TextBlob(review)\n",
        "    sentiment = blob.sentiment.polarity\n",
        "    if sentiment > 0:\n",
        "        return \"Positive\"\n",
        "    elif sentiment == 0:\n",
        "        return \"Neutral\"\n",
        "    else:\n",
        "        return \"Negative\"\n",
        "\n",
        "# Prompt the user for a review\n",
        "user_review = input(\"Please enter a review: \")\n",
        "\n",
        "# Classify using TextBlob\n",
        "textblob_result = classify_review_textblob(user_review)\n",
        "print(f\"TextBlob classification result: {textblob_result}\")\n",
        "\n",
        "# Assuming you have trained your LSTM model and tokenizer\n",
        "# Preprocess the input review for the LSTM model\n",
        "def preprocess_review_lstm(review, tokenizer, max_len=200):\n",
        "    review_seq = tokenizer.texts_to_sequences([review])\n",
        "    review_pad = pad_sequences(review_seq, maxlen=max_len)\n",
        "    return review_pad\n",
        "\n",
        "# Classify the input review using your LSTM model\n",
        "preprocessed_review = preprocess_review_lstm(user_review, tokenizer)\n",
        "lstm_prediction = model.predict(preprocessed_review)\n",
        "\n",
        "# Assuming your LSTM model outputs probabilities (softmax)\n",
        "if lstm_prediction >= 0.5:\n",
        "    lstm_result = \"Positive\"\n",
        "else:\n",
        "    lstm_result = \"Negative\"\n",
        "\n",
        "print(f\"LSTM classification result: {lstm_result}\")\n"
      ],
      "metadata": {
        "colab": {
          "base_uri": "https://localhost:8080/"
        },
        "id": "NvntQ4jgHUpm",
        "outputId": "194ce299-71f9-43b2-caf0-a9cf0a2303b5"
      },
      "execution_count": 19,
      "outputs": [
        {
          "output_type": "stream",
          "name": "stderr",
          "text": [
            "[nltk_data] Downloading package punkt to /root/nltk_data...\n",
            "[nltk_data]   Package punkt is already up-to-date!\n"
          ]
        },
        {
          "output_type": "stream",
          "name": "stdout",
          "text": [
            "Please enter a review: This product exceeded my expectations! The quality is excellent, and the customer service was outstanding.\n",
            "TextBlob classification result: Positive\n",
            "\u001b[1m1/1\u001b[0m \u001b[32m━━━━━━━━━━━━━━━━━━━━\u001b[0m\u001b[37m\u001b[0m \u001b[1m0s\u001b[0m 139ms/step\n",
            "LSTM classification result: Positive\n"
          ]
        }
      ]
    }
  ]
}